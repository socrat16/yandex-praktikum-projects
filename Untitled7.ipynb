{
  "nbformat": 4,
  "nbformat_minor": 0,
  "metadata": {
    "colab": {
      "provenance": [],
      "mount_file_id": "117_moox3wB8JtFFC1aCXObDMn6HLkGkn",
      "authorship_tag": "ABX9TyO7Z09+6Y+MxO3bFqybVLpf",
      "include_colab_link": true
    },
    "kernelspec": {
      "name": "python3",
      "display_name": "Python 3"
    },
    "language_info": {
      "name": "python"
    }
  },
  "cells": [
    {
      "cell_type": "markdown",
      "metadata": {
        "id": "view-in-github",
        "colab_type": "text"
      },
      "source": [
        "<a href=\"https://colab.research.google.com/github/socrat16/yandex-praktikum-projects/blob/master/Untitled7.ipynb\" target=\"_parent\"><img src=\"https://colab.research.google.com/assets/colab-badge.svg\" alt=\"Open In Colab\"/></a>"
      ]
    },
    {
      "cell_type": "markdown",
      "source": [
        "# Содержание \n",
        "1. [Загрузка и первичный анализ данных](#learn)</br>\n",
        "    1.1&nbsp;&nbsp;[Вывод](#viv1)</br>\n",
        "2. [Предобработка и исследовательский анализ данных](#pre)</br>\n",
        "    2.1&nbsp;&nbsp;[Вывод](#vv1)</br>\n",
        "3. [Обучение моделей](#pas)</br>\n",
        "   3.1&nbsp;&nbsp;[Вывод](#v15)</br>\n",
        "4. [Общий вывод](#ob)</br>"
      ],
      "metadata": {
        "id": "D9265KNPC7Dx"
      }
    },
    {
      "cell_type": "markdown",
      "source": [],
      "metadata": {
        "id": "tUznAZRpC4pJ"
      }
    },
    {
      "cell_type": "markdown",
      "source": [
        "# Модель для оптимизации затрат металлургического комбината"
      ],
      "metadata": {
        "id": "Cz-dsFLCDS51"
      }
    },
    {
      "cell_type": "markdown",
      "source": [
        "Чтобы оптимизировать производственные расходы, металлургический комбинат ООО «Так закаляем сталь» решил уменьшить потребление электроэнергии на этапе обработки стали. Необходимо построить модель, которая предскажет температуру стали.\n",
        "\n",
        "\n",
        "### Описание этапа обработки\n",
        "\n",
        "Сталь обрабатывают в металлическом ковше вместимостью около 100 тонн. Чтобы ковш выдерживал высокие температуры, изнутри его облицовывают огнеупорным кирпичом. Расплавленную сталь заливают в ковш и подогревают до нужной температуры графитовыми электродами. Они установлены в крышке ковша. \n",
        "\n",
        "Из сплава выводится сера (десульфурация), добавлением примесей корректируется химический состав и отбираются пробы. Сталь легируют — изменяют её состав — подавая куски сплава из бункера для сыпучих материалов или проволоку через специальный трайб-аппарат (англ. tribe, «масса»).\n",
        "\n",
        "Перед тем как первый раз ввести легирующие добавки, измеряют температуру стали и производят её химический анализ. Потом температуру на несколько минут повышают, добавляют легирующие материалы и продувают сплав инертным газом. Затем его перемешивают и снова проводят измерения. Такой цикл повторяется до достижения целевого химического состава и оптимальной температуры плавки.\n",
        "\n",
        "Тогда расплавленная сталь отправляется на доводку металла или поступает в машину непрерывной разливки. Оттуда готовый продукт выходит в виде заготовок-слябов (англ. *slab*, «плита»)."
      ],
      "metadata": {
        "id": "keKNQLiRDWcy"
      }
    },
    {
      "cell_type": "markdown",
      "source": [
        "### Описание данных"
      ],
      "metadata": {
        "id": "zTQMo7UyDaRF"
      }
    },
    {
      "cell_type": "markdown",
      "source": [
        "\n",
        "\n",
        "Данные состоят из файлов, полученных из разных источников, обозначим названия и поля:\n",
        "\n",
        "- `data_arc.csv` — данные об электродах;  \n",
        "    `Активная составляющая` - потребляемой любой нагрузкой мощности электрического тока совершает полезную работу и трансформируется в нужные нам виды энергии (тепловую, световую, звуковую и т.п.).  \n",
        "    `Реактивная составляющая` электрического тока возникает только в цепях, содержащих реактивные элементы (индуктивности и ёмкости) и расходуется обычно на бесполезный нагрев проводников, из которых составлена эта цепь. Примером таких реактивных нагрузок являются электродвигатели различного типа, переносные электроинструменты (электродрели, «болгарки», штроборезы и т.п.), а также различная бытовая электронная техника.\n",
        "\n",
        "- `data_bulk.csv` — данные о подаче сыпучих материалов (объём);  \n",
        "   `Bulk1-15` — сыпучие материалы\n",
        "- `data_bulk_time.csv` *—* данные о подаче сыпучих материалов (время);\n",
        "- `data_gas.csv` — данные о продувке сплава газом;\n",
        "- `data_temp.csv` — результаты измерения температуры;\n",
        "- `data_wire.csv` — данные о проволочных материалах (объём);  \n",
        "   `Wire1-7` — данные проволоки\n",
        "- `data_wire_time.csv` — данные о проволочных материалах (время)."
      ],
      "metadata": {
        "id": "GmeXtbjjDdXy"
      }
    },
    {
      "cell_type": "markdown",
      "source": [
        "Во всех файлах столбец `key` содержит номер партии. В файлах может быть несколько строк с одинаковым значением `key`: они соответствуют разным итерациям обработки."
      ],
      "metadata": {
        "id": "bWIWWdbfDiW9"
      }
    },
    {
      "cell_type": "markdown",
      "source": [
        "<a name=\"learn\"></a>\n",
        "## 1 Загрузка и первичный анализ данных\n",
        "---"
      ],
      "metadata": {
        "id": "DpnPSlRhDoCZ"
      }
    },
    {
      "cell_type": "code",
      "source": [
        "import tqdm\n",
        "import warnings\n",
        "import pandas as pd\n",
        "import numpy as np\n",
        "from scipy import stats as st\n",
        "import seaborn as sns\n",
        "import matplotlib.pyplot as plt\n",
        "from sklearn.dummy import DummyRegressor\n",
        "from sklearn.metrics import make_scorer,mean_squared_error\n",
        "from sklearn.preprocessing import StandardScaler\n",
        "from sklearn.linear_model import LinearRegression\n",
        "from sklearn.tree import DecisionTreeRegressor\n",
        "from sklearn.ensemble import RandomForestRegressor\n",
        "from sklearn.model_selection import train_test_split,cross_val_score\n",
        "# для игнорирования ошибок \n",
        "warnings.filterwarnings(\"ignore\",category=UserWarning)\n",
        "#Для вывода всех столблов\n",
        "pd.set_option('display.max_columns', None)"
      ],
      "metadata": {
        "id": "KieFlgoYDTdZ"
      },
      "execution_count": null,
      "outputs": []
    },
    {
      "cell_type": "code",
      "source": [
        "RANDOM_STATE = 141122"
      ],
      "metadata": {
        "id": "LEtVAUdyDrsC"
      },
      "execution_count": null,
      "outputs": []
    },
    {
      "cell_type": "code",
      "source": [
        "try:\n",
        "    data_arc = pd.read_csv('/home/jupyter/work/resources/practikum_my/doplom_pro_stal/data_arc.csv')\n",
        "    data_bulk_time = pd.read_csv('/home/jupyter/work/resources/practikum_my/doplom_pro_stal/data_bulk_time.csv')\n",
        "    data_bulk = pd.read_csv('/home/jupyter/work/resources/practikum_my/doplom_pro_stal/data_bulk.csv')\n",
        "    data_gas = pd.read_csv('/home/jupyter/work/resources/practikum_my/doplom_pro_stal/data_gas.csv')\n",
        "    data_temp = pd.read_csv('/home/jupyter/work/resources/practikum_my/doplom_pro_stal/data_temp.csv')\n",
        "    data_wire_time = pd.read_csv('/home/jupyter/work/resources/practikum_my/doplom_pro_stal/data_wire_time.csv')\n",
        "    data_wire= pd.read_csv('/home/jupyter/work/resources/practikum_my/doplom_pro_stal/data_wire.csv')\n",
        "except:\n",
        "    data_arc = pd.read_csv('/datasets/final_steel/data_arc.csv')\n",
        "    data_bulk_time = pd.read_csv('/datasets/final_steel/data_bulk_time.csv')\n",
        "    data_bulk = pd.read_csv('/datasets/final_steel/data_bulk.csv')\n",
        "    data_gas = pd.read_csv('/datasets/final_steel/data_gas.csv')\n",
        "    data_temp = pd.read_csv('/datasets/final_steel/data_temp.csv')\n",
        "    data_wire = pd.read_csv('/datasets/final_steel/data_wire_time.csv')\n",
        "    data_wire_time = pd.read_csv('/datasets/final_steel/data_wire.csv')"
      ],
      "metadata": {
        "id": "WNbTK8f8Dt4R"
      },
      "execution_count": null,
      "outputs": []
    },
    {
      "cell_type": "markdown",
      "source": [
        "Исследуем данные по таблицам\n",
        "#### Об электродах"
      ],
      "metadata": {
        "id": "xyuymSYqDyMR"
      }
    },
    {
      "cell_type": "code",
      "source": [
        "data_arc.head(10)"
      ],
      "metadata": {
        "id": "JG3Elj7AD08z"
      },
      "execution_count": null,
      "outputs": []
    },
    {
      "cell_type": "code",
      "source": [
        "data_arc.info()"
      ],
      "metadata": {
        "id": "AjVYepWwD2tE"
      },
      "execution_count": null,
      "outputs": []
    },
    {
      "cell_type": "code",
      "source": [
        "data_arc.describe()"
      ],
      "metadata": {
        "id": "NFPi22bjD6OR"
      },
      "execution_count": null,
      "outputs": []
    },
    {
      "cell_type": "code",
      "source": [
        "data_arc['Активная мощность'].sort_values()"
      ],
      "metadata": {
        "id": "HkYEOIVLD8FI"
      },
      "execution_count": null,
      "outputs": []
    },
    {
      "cell_type": "code",
      "source": [
        "data_arc['Реактивная мощность'].sort_values()"
      ],
      "metadata": {
        "id": "dPmFK-t6D6px"
      },
      "execution_count": null,
      "outputs": []
    },
    {
      "cell_type": "code",
      "source": [
        "data_arc[data_arc['Реактивная мощность'] < 0]"
      ],
      "metadata": {
        "id": "3XzZgGkOD86u"
      },
      "execution_count": null,
      "outputs": []
    },
    {
      "cell_type": "code",
      "source": [
        "ga = data_arc[data_arc['Реактивная мощность'] > 0]\n",
        "plt.ylim(-1,3.5)\n",
        "ga.boxplot('Активная мощность')"
      ],
      "metadata": {
        "id": "mbJ_TV2wD9O9"
      },
      "execution_count": null,
      "outputs": []
    },
    {
      "cell_type": "code",
      "source": [
        "plt.ylim(0,3.5) \n",
        "ga.boxplot('Реактивная мощность')"
      ],
      "metadata": {
        "id": "HpQrtrmpD8oD"
      },
      "execution_count": null,
      "outputs": []
    },
    {
      "cell_type": "markdown",
      "source": [
        "### Данные с датчиков температуры"
      ],
      "metadata": {
        "id": "oixCTa-rEDv8"
      }
    },
    {
      "cell_type": "code",
      "source": [
        "data_temp.head(10)"
      ],
      "metadata": {
        "id": "viurUOm4EFXW"
      },
      "execution_count": null,
      "outputs": []
    },
    {
      "cell_type": "code",
      "source": [
        "data_temp.info()"
      ],
      "metadata": {
        "id": "v-QBDi06EHS0"
      },
      "execution_count": null,
      "outputs": []
    },
    {
      "cell_type": "code",
      "source": [
        "data_temp.describe()"
      ],
      "metadata": {
        "id": "vxhLE_P-EKMR"
      },
      "execution_count": null,
      "outputs": []
    },
    {
      "cell_type": "markdown",
      "source": [
        "~ 20% данных о температуре отсутствует.\n",
        "Выброс только 1, будем избавлятся."
      ],
      "metadata": {
        "id": "EvVTWL2ZEN2s"
      }
    },
    {
      "cell_type": "code",
      "source": [
        "data_bulk.head(10)"
      ],
      "metadata": {
        "id": "eWekuEEsERdZ"
      },
      "execution_count": null,
      "outputs": []
    },
    {
      "cell_type": "code",
      "source": [
        "data_bulk.info()"
      ],
      "metadata": {
        "id": "13mV5stKEQeu"
      },
      "execution_count": null,
      "outputs": []
    },
    {
      "cell_type": "code",
      "source": [
        "data_bulk.describe()"
      ],
      "metadata": {
        "id": "UwTwnn7nEVO9"
      },
      "execution_count": null,
      "outputs": []
    },
    {
      "cell_type": "code",
      "source": [
        "data_bulk[data_bulk['Bulk 12'] > 1000 ]"
      ],
      "metadata": {
        "id": "SSoi9SpCEWsy"
      },
      "execution_count": null,
      "outputs": []
    },
    {
      "cell_type": "code",
      "source": [
        "data_bulk_time.head(10)"
      ],
      "metadata": {
        "id": "OhSP7LBuEYRO"
      },
      "execution_count": null,
      "outputs": []
    },
    {
      "cell_type": "code",
      "source": [
        " data_bulk_time.info()"
      ],
      "metadata": {
        "id": "-0hvv90ZEbII"
      },
      "execution_count": null,
      "outputs": []
    },
    {
      "cell_type": "code",
      "source": [],
      "metadata": {
        "id": "MHyl_1R-EdBu"
      },
      "execution_count": null,
      "outputs": []
    },
    {
      "cell_type": "markdown",
      "source": [
        "`NaN` в `Bulk` присутсвуют так как материалы не подавали. Время подачи `data_bulk_time` и данные с датчиков температуры присутвую в разнабой поскольку процесс сбора метрик еще налаживается."
      ],
      "metadata": {
        "id": "kZzCQgSDEd_G"
      }
    },
    {
      "cell_type": "code",
      "source": [
        "data_gas.head(10)"
      ],
      "metadata": {
        "id": "Nm90uco0Eeqm"
      },
      "execution_count": null,
      "outputs": []
    },
    {
      "cell_type": "code",
      "source": [
        "data_gas.info()"
      ],
      "metadata": {
        "id": "X02IrOYgEi3O"
      },
      "execution_count": null,
      "outputs": []
    },
    {
      "cell_type": "code",
      "source": [
        "data_gas.describe()"
      ],
      "metadata": {
        "id": "mj3uzBDGEkyV"
      },
      "execution_count": null,
      "outputs": []
    },
    {
      "cell_type": "code",
      "source": [
        "ga = data_gas\n",
        "plt.ylim(-1,100)\n",
        "ga.boxplot('Газ 1')"
      ],
      "metadata": {
        "id": "RlWmvHf2Emrq"
      },
      "execution_count": null,
      "outputs": []
    },
    {
      "cell_type": "code",
      "source": [],
      "metadata": {
        "id": "dlGDtaVdEodD"
      },
      "execution_count": null,
      "outputs": []
    },
    {
      "cell_type": "markdown",
      "source": [
        "Есть выбросы в данных про газ."
      ],
      "metadata": {
        "id": "KFD9vJTzEqg4"
      }
    },
    {
      "cell_type": "code",
      "source": [
        "data_wire.head(10)"
      ],
      "metadata": {
        "id": "L5b7u-NvEsU0"
      },
      "execution_count": null,
      "outputs": []
    },
    {
      "cell_type": "code",
      "source": [
        "data_wire.info()"
      ],
      "metadata": {
        "id": "WJ-JUyuZEr0S"
      },
      "execution_count": null,
      "outputs": []
    },
    {
      "cell_type": "code",
      "source": [
        "data_wire.describe()"
      ],
      "metadata": {
        "id": "Pys1DwquEu8H"
      },
      "execution_count": null,
      "outputs": []
    },
    {
      "cell_type": "markdown",
      "source": [
        "Значительных выбросов \\ анамалий — нет, также замечено что у Wire 5 одинаковое значения. Он нам не пригодится в пострении модели."
      ],
      "metadata": {
        "id": "I-R1jFMCEypy"
      }
    },
    {
      "cell_type": "markdown",
      "source": [
        "<a name=\"viv1\"></a>\n",
        "### 1.1 Вывод"
      ],
      "metadata": {
        "id": "axcuR2VHE6ug"
      }
    },
    {
      "cell_type": "markdown",
      "source": [
        "Первичный осмотр показал, что в большинстве таблиц присутсвуют пропуски (нет только в данных о газе и электродах). Будем заполнять их соответственно.\n",
        "Есть анамалии (в реактивной мощности отрицательное значение) и выбросы (в таблицах с легирующими материалами ). Есть с чем поработать."
      ],
      "metadata": {
        "id": "xZDp0JoQE8Yw"
      }
    },
    {
      "cell_type": "markdown",
      "source": [
        " \n",
        "    В 1 пункте провел загрузку и первичный анализ, ничего не меняя, и сделал первые выводы по данным.\n",
        "    План решения:\n",
        "    1. Предобработать данные удалив\\заполнив пропуски, глубже проверить анамалии\\выбросы.\n",
        "    2.Обьединить по `key` таблицы, подробно исследовать, — учитывая что мы предсказываем последнюю температуру в партиях нам нужна 1ая и последняя t с датчиков.\n",
        "    3. Выявить признаки (тут наверное буду учитывать врменные интервали подачи...)\n",
        "    4. Разделить данные.Обучить несколько моделей. С ансамблем\\без. Подобрать гиперпараметры на кроссвалидации.\n",
        "    5. Поэкспериментировать над признаками (возможно)\n",
        "    6. Дамми посторить и с ней сравнить.\n",
        "    7. Составить отчет.\n",
        "    \n",
        "    Вопросы:\n",
        "    Из-за большого кол-ва пропусков с датчиков t теряем много данных, но никуда не дется как японимаю. Это же нормальная практика, главное чтобы метрика была норм и признаки выбраны подходящие? (просто нас учили что 1-2 % желательно удалять).\n",
        " "
      ],
      "metadata": {
        "id": "Ebbx0kdaFAz2"
      }
    },
    {
      "cell_type": "code",
      "source": [],
      "metadata": {
        "id": "4g0AtLdWFHxV"
      },
      "execution_count": null,
      "outputs": []
    },
    {
      "cell_type": "markdown",
      "source": [
        "<a name=\"pre\"></a>\n",
        "## 2 Предобработка и исследовательский анализ данных\n",
        "---"
      ],
      "metadata": {
        "id": "Y9BSAMWVFILw"
      }
    },
    {
      "cell_type": "markdown",
      "source": [
        "<a name=\"vv1\"></a>\n",
        "## 2.1 Вывод"
      ],
      "metadata": {
        "id": "OjHJUyf_FW3O"
      }
    },
    {
      "cell_type": "markdown",
      "source": [],
      "metadata": {
        "id": "ppD8GJsdE4GN"
      }
    },
    {
      "cell_type": "markdown",
      "source": [
        "<a name=\"pas\"></a>\n",
        "## 3 Обучение моделей\n",
        "---"
      ],
      "metadata": {
        "id": "8KrFA6wKFbiI"
      }
    },
    {
      "cell_type": "code",
      "source": [],
      "metadata": {
        "id": "tr02-SQKFcB8"
      },
      "execution_count": null,
      "outputs": []
    },
    {
      "cell_type": "markdown",
      "source": [
        "<a name=\"v15\"></a>\n",
        "## 3.1 Вывод"
      ],
      "metadata": {
        "id": "9h3C_uwfFdWZ"
      }
    },
    {
      "cell_type": "markdown",
      "source": [
        "<a name=\"ob\"></a>\n",
        "## 4 Общий вывод\n",
        "---"
      ],
      "metadata": {
        "id": "Ho4wR83SFfnR"
      }
    },
    {
      "cell_type": "code",
      "source": [],
      "metadata": {
        "id": "AaPotqtwFdzz"
      },
      "execution_count": null,
      "outputs": []
    }
  ]
}